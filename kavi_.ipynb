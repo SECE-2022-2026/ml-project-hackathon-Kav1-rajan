{
  "nbformat": 4,
  "nbformat_minor": 0,
  "metadata": {
    "colab": {
      "provenance": [],
      "toc_visible": true
    },
    "kernelspec": {
      "name": "python3",
      "display_name": "Python 3"
    },
    "language_info": {
      "name": "python"
    }
  },
  "cells": [
    {
      "cell_type": "markdown",
      "source": [
        "# Mushroom Classification"
      ],
      "metadata": {
        "id": "dD4vR0q_IXZj"
      }
    },
    {
      "cell_type": "code",
      "execution_count": null,
      "metadata": {
        "id": "icyxMk0fD2MX"
      },
      "outputs": [],
      "source": [
        "import numpy as np\n",
        "\n",
        "from matplotlib import pyplot as plt\n",
        "%matplotlib inline\n",
        "\n",
        "import pandas as pd\n",
        "from sklearn import preprocessing as pp\n",
        "from sklearn.linear_model import LogisticRegression as LR\n"
      ]
    },
    {
      "cell_type": "code",
      "source": [
        "ds = pd.read_csv('mushrooms.csv')\n",
        "dat = ds.values\n",
        "\n",
        "print (dat.shape)\n",
        "\n",
        "headers = list(ds.columns.values)"
      ],
      "metadata": {
        "colab": {
          "base_uri": "https://localhost:8080/"
        },
        "id": "1HA16zTJD8a1",
        "outputId": "eab3c7b8-4676-442f-c41c-ed64ae5fb6c7"
      },
      "execution_count": null,
      "outputs": [
        {
          "output_type": "stream",
          "name": "stdout",
          "text": [
            "(8124, 23)\n"
          ]
        }
      ]
    },
    {
      "cell_type": "code",
      "source": [
        "#Data Preprocessing\n",
        "l = pp.LabelEncoder()\n",
        "l.fit(dat[:, 0])\n",
        "dataa = l.transform(dat[:, 0])\n",
        "\n",
        "for ix in range(1, dat.shape[1]):\n",
        "    le = pp.LabelEncoder()\n",
        "    le.fit(dat[:, ix])\n",
        "    y = le.transform(dat[:, ix])\n",
        "    dataa = np.vstack((dataa , y))\n",
        "\n",
        "data = dataa.T\n",
        "\n",
        "cate = data[:, 0]\n",
        "\n",
        "print (data.shape)"
      ],
      "metadata": {
        "colab": {
          "base_uri": "https://localhost:8080/"
        },
        "id": "UELcaq2nD8TH",
        "outputId": "f2ed3e4c-e1d1-46d6-c8d6-14c4b18843dd"
      },
      "execution_count": null,
      "outputs": [
        {
          "output_type": "stream",
          "name": "stdout",
          "text": [
            "(8124, 23)\n"
          ]
        }
      ]
    },
    {
      "cell_type": "code",
      "source": [
        "split = int(0.80 * data.shape[0])\n",
        "\n",
        "x_train = data[:split , 1:]\n",
        "y_train = data[:split, 0]\n",
        "\n",
        "x_test = data[split: , 1:]\n",
        "y_test = data[split: , 0]\n",
        "\n",
        "print (x_train.shape, y_train.shape)\n",
        "print (x_test.shape, y_test.shape)"
      ],
      "metadata": {
        "colab": {
          "base_uri": "https://localhost:8080/"
        },
        "id": "d8Fyn_BXD8Qv",
        "outputId": "7566ab6e-f801-4be1-aeec-bd4660038bb5"
      },
      "execution_count": null,
      "outputs": [
        {
          "output_type": "stream",
          "name": "stdout",
          "text": [
            "(6499, 22) (6499,)\n",
            "(1625, 22) (1625,)\n"
          ]
        }
      ]
    },
    {
      "cell_type": "code",
      "source": [
        "lr = LR()\n",
        "\n",
        "lr.fit(x_train, y_train)\n",
        "\n",
        "\n",
        "\n",
        "score = lr.score(x_test, y_test)\n",
        "\n",
        "print (\"Accurcy : \", score*100 )\n",
        "\n",
        "#print \"\\n\""
      ],
      "metadata": {
        "colab": {
          "base_uri": "https://localhost:8080/"
        },
        "id": "P_ZeH78eE0Kk",
        "outputId": "4030556b-08e7-414d-e47f-87e15e269f6e"
      },
      "execution_count": null,
      "outputs": [
        {
          "output_type": "stream",
          "name": "stdout",
          "text": [
            "Accurcy :  89.35384615384615\n"
          ]
        },
        {
          "output_type": "stream",
          "name": "stderr",
          "text": [
            "/usr/local/lib/python3.10/dist-packages/sklearn/linear_model/_logistic.py:469: ConvergenceWarning: lbfgs failed to converge (status=1):\n",
            "STOP: TOTAL NO. of ITERATIONS REACHED LIMIT.\n",
            "\n",
            "Increase the number of iterations (max_iter) or scale the data as shown in:\n",
            "    https://scikit-learn.org/stable/modules/preprocessing.html\n",
            "Please also refer to the documentation for alternative solver options:\n",
            "    https://scikit-learn.org/stable/modules/linear_model.html#logistic-regression\n",
            "  n_iter_i = _check_optimize_result(\n"
          ]
        }
      ]
    },
    {
      "cell_type": "code",
      "source": [
        "#give inpu the predictr\n",
        "lr.predict(x_test)"
      ],
      "metadata": {
        "id": "po5yRNlcE73s",
        "colab": {
          "base_uri": "https://localhost:8080/"
        },
        "outputId": "8adff664-3190-4ad1-d371-d442587ebdef"
      },
      "execution_count": null,
      "outputs": [
        {
          "output_type": "execute_result",
          "data": {
            "text/plain": [
              "array([1, 1, 1, ..., 0, 1, 0])"
            ]
          },
          "metadata": {},
          "execution_count": 7
        }
      ]
    }
  ]
}